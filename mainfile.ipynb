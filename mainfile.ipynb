{
 "cells": [
  {
   "cell_type": "code",
   "execution_count": null,
   "id": "f62f218b-1bb8-47a7-a3ca-6a11c1b7587d",
   "metadata": {},
   "outputs": [],
   "source": [
    "# first introduction commit"
   ]
  },
  {
   "cell_type": "code",
   "execution_count": 2,
   "id": "296ab449-480d-4644-9044-7cf0f19d88a5",
   "metadata": {},
   "outputs": [
    {
     "name": "stdout",
     "output_type": "stream",
     "text": [
      "WARNING:tensorflow:From C:\\Python311\\Lib\\site-packages\\keras\\src\\losses.py:2976: The name tf.losses.sparse_softmax_cross_entropy is deprecated. Please use tf.compat.v1.losses.sparse_softmax_cross_entropy instead.\n",
      "\n",
      "Found 3115 files belonging to 36 classes.\n",
      "Found 351 files belonging to 36 classes.\n",
      "Found 359 files belonging to 36 classes.\n"
     ]
    }
   ],
   "source": [
    "import tensorflow as tf\n",
    "\n",
    "train_dir = r\"C:\\Users\\DELL\\OneDrive\\Desktop\\fruit-vege\\fruit-vegitable-image-classification\\data\\train\"\n",
    "val_dir = r\"C:\\Users\\DELL\\OneDrive\\Desktop\\fruit-vege\\fruit-vegitable-image-classification\\data\\validation\"\n",
    "test_dir = r\"C:\\Users\\DELL\\OneDrive\\Desktop\\fruit-vege\\fruit-vegitable-image-classification\\data\\test\"\n",
    "\n",
    "# Load training data\n",
    "train_ds = tf.keras.preprocessing.image_dataset_from_directory(\n",
    "    train_dir,\n",
    "    image_size=(224, 224),  # resize images\n",
    "    batch_size=32,\n",
    "    shuffle=True\n",
    ")\n",
    "\n",
    "# Load validation data\n",
    "val_ds = tf.keras.preprocessing.image_dataset_from_directory(\n",
    "    val_dir,\n",
    "    image_size=(224, 224),\n",
    "    batch_size=32,\n",
    "    shuffle=False\n",
    ")\n",
    "\n",
    "# Load test data\n",
    "test_ds = tf.keras.preprocessing.image_dataset_from_directory(\n",
    "    test_dir,\n",
    "    image_size=(224, 224),\n",
    "    batch_size=32,\n",
    "    shuffle=False\n",
    ")\n"
   ]
  },
  {
   "cell_type": "code",
   "execution_count": 3,
   "id": "7b0f8471-2a1c-44cd-8908-2077d3eb237c",
   "metadata": {},
   "outputs": [],
   "source": [
    "import numpy as np\n",
    "import matplotlib.pyplot as plt"
   ]
  },
  {
   "cell_type": "code",
   "execution_count": null,
   "id": "dfb90db2-dba0-45db-b9d1-194b2a781666",
   "metadata": {},
   "outputs": [],
   "source": [
    "## Data preprocessing"
   ]
  }
 ],
 "metadata": {
  "kernelspec": {
   "display_name": "Python 3 (ipykernel)",
   "language": "python",
   "name": "python3"
  },
  "language_info": {
   "codemirror_mode": {
    "name": "ipython",
    "version": 3
   },
   "file_extension": ".py",
   "mimetype": "text/x-python",
   "name": "python",
   "nbconvert_exporter": "python",
   "pygments_lexer": "ipython3",
   "version": "3.11.3"
  }
 },
 "nbformat": 4,
 "nbformat_minor": 5
}
