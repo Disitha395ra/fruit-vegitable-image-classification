{
 "cells": [
  {
   "cell_type": "code",
   "execution_count": null,
   "id": "f62f218b-1bb8-47a7-a3ca-6a11c1b7587d",
   "metadata": {},
   "outputs": [],
   "source": [
    "# first introduction commit"
   ]
  }
 ],
 "metadata": {
  "kernelspec": {
   "display_name": "Python 3 (ipykernel)",
   "language": "python",
   "name": "python3"
  },
  "language_info": {
   "codemirror_mode": {
    "name": "ipython",
    "version": 3
   },
   "file_extension": ".py",
   "mimetype": "text/x-python",
   "name": "python",
   "nbconvert_exporter": "python",
   "pygments_lexer": "ipython3",
   "version": "3.11.3"
  }
 },
 "nbformat": 4,
 "nbformat_minor": 5
}
